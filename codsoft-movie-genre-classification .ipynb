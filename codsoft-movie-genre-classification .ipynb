{
 "cells": [
  {
   "cell_type": "markdown",
   "id": "739b0e40",
   "metadata": {
    "_cell_guid": "b1076dfc-b9ad-4769-8c92-a6c4dae69d19",
    "_uuid": "8f2839f25d086af736a60e9eeb907d3b93b6e0e5",
    "papermill": {
     "duration": 0.011335,
     "end_time": "2024-08-11T13:46:24.283075",
     "exception": false,
     "start_time": "2024-08-11T13:46:24.271740",
     "status": "completed"
    },
    "tags": []
   },
   "source": [
    "## Movie Genre Classification"
   ]
  },
  {
   "cell_type": "markdown",
   "id": "4238f73b",
   "metadata": {
    "papermill": {
     "duration": 0.010589,
     "end_time": "2024-08-11T13:46:24.326604",
     "exception": false,
     "start_time": "2024-08-11T13:46:24.316015",
     "status": "completed"
    },
    "tags": []
   },
   "source": [
    "### Importing Libraries"
   ]
  },
  {
   "cell_type": "code",
   "execution_count": 1,
   "id": "009dd088",
   "metadata": {
    "execution": {
     "iopub.execute_input": "2024-08-11T13:46:24.351001Z",
     "iopub.status.busy": "2024-08-11T13:46:24.350651Z",
     "iopub.status.idle": "2024-08-11T13:46:39.092518Z",
     "shell.execute_reply": "2024-08-11T13:46:39.091497Z"
    },
    "papermill": {
     "duration": 14.757257,
     "end_time": "2024-08-11T13:46:39.094929",
     "exception": false,
     "start_time": "2024-08-11T13:46:24.337672",
     "status": "completed"
    },
    "tags": []
   },
   "outputs": [],
   "source": [
    "import pandas as pd\n",
    "import numpy as np\n",
    "import matplotlib.pyplot as plt\n",
    "import seaborn as sns\n",
    "import re\n",
    "import nltk\n",
    "import string\n",
    "from collections import Counter\n",
    "from nltk.corpus import stopwords\n",
    "from nltk.stem import LancasterStemmer\n",
    "from sklearn.model_selection import train_test_split\n",
    "from sklearn.feature_extraction.text import TfidfVectorizer\n",
    "from sklearn.naive_bayes import MultinomialNB\n",
    "from sklearn.metrics import accuracy_score, classification_report\n",
    "from sklearn.preprocessing import LabelEncoder\n",
    "from tensorflow.keras.preprocessing.sequence import pad_sequences\n",
    "from tensorflow.keras.preprocessing.text import Tokenizer\n",
    "from tensorflow.keras.models import Sequential\n",
    "from tensorflow.keras.layers import Embedding, LSTM, Dense, Dropout, SpatialDropout1D\n",
    "from tensorflow.keras.callbacks import EarlyStopping"
   ]
  },
  {
   "cell_type": "markdown",
   "id": "f905e86b",
   "metadata": {
    "papermill": {
     "duration": 0.010859,
     "end_time": "2024-08-11T13:46:39.117130",
     "exception": false,
     "start_time": "2024-08-11T13:46:39.106271",
     "status": "completed"
    },
    "tags": []
   },
   "source": [
    "### Load Dataset"
   ]
  },
  {
   "cell_type": "code",
   "execution_count": 2,
   "id": "1c6723b1",
   "metadata": {
    "execution": {
     "iopub.execute_input": "2024-08-11T13:46:39.141550Z",
     "iopub.status.busy": "2024-08-11T13:46:39.140829Z",
     "iopub.status.idle": "2024-08-11T13:46:40.014478Z",
     "shell.execute_reply": "2024-08-11T13:46:40.013635Z"
    },
    "papermill": {
     "duration": 0.888553,
     "end_time": "2024-08-11T13:46:40.016839",
     "exception": false,
     "start_time": "2024-08-11T13:46:39.128286",
     "status": "completed"
    },
    "tags": []
   },
   "outputs": [],
   "source": [
    "train_path = \"../input/genre-classification-dataset-imdb/Genre Classification Dataset/train_data.txt\"\n",
    "train_data = pd.read_csv(train_path, sep = ':::', names = ['Title', 'Genre', 'Description'], engine = 'python')"
   ]
  },
  {
   "cell_type": "code",
   "execution_count": 3,
   "id": "7834ba89",
   "metadata": {
    "execution": {
     "iopub.execute_input": "2024-08-11T13:46:40.042304Z",
     "iopub.status.busy": "2024-08-11T13:46:40.041947Z",
     "iopub.status.idle": "2024-08-11T13:46:40.060601Z",
     "shell.execute_reply": "2024-08-11T13:46:40.059651Z"
    },
    "papermill": {
     "duration": 0.033457,
     "end_time": "2024-08-11T13:46:40.062644",
     "exception": false,
     "start_time": "2024-08-11T13:46:40.029187",
     "status": "completed"
    },
    "tags": []
   },
   "outputs": [
    {
     "data": {
      "text/html": [
       "<div>\n",
       "<style scoped>\n",
       "    .dataframe tbody tr th:only-of-type {\n",
       "        vertical-align: middle;\n",
       "    }\n",
       "\n",
       "    .dataframe tbody tr th {\n",
       "        vertical-align: top;\n",
       "    }\n",
       "\n",
       "    .dataframe thead th {\n",
       "        text-align: right;\n",
       "    }\n",
       "</style>\n",
       "<table border=\"1\" class=\"dataframe\">\n",
       "  <thead>\n",
       "    <tr style=\"text-align: right;\">\n",
       "      <th></th>\n",
       "      <th>Title</th>\n",
       "      <th>Genre</th>\n",
       "      <th>Description</th>\n",
       "    </tr>\n",
       "  </thead>\n",
       "  <tbody>\n",
       "    <tr>\n",
       "      <th>1</th>\n",
       "      <td>Oscar et la dame rose (2009)</td>\n",
       "      <td>drama</td>\n",
       "      <td>Listening in to a conversation between his do...</td>\n",
       "    </tr>\n",
       "    <tr>\n",
       "      <th>2</th>\n",
       "      <td>Cupid (1997)</td>\n",
       "      <td>thriller</td>\n",
       "      <td>A brother and sister with a past incestuous r...</td>\n",
       "    </tr>\n",
       "    <tr>\n",
       "      <th>3</th>\n",
       "      <td>Young, Wild and Wonderful (1980)</td>\n",
       "      <td>adult</td>\n",
       "      <td>As the bus empties the students for their fie...</td>\n",
       "    </tr>\n",
       "    <tr>\n",
       "      <th>4</th>\n",
       "      <td>The Secret Sin (1915)</td>\n",
       "      <td>drama</td>\n",
       "      <td>To help their unemployed father make ends mee...</td>\n",
       "    </tr>\n",
       "    <tr>\n",
       "      <th>5</th>\n",
       "      <td>The Unrecovered (2007)</td>\n",
       "      <td>drama</td>\n",
       "      <td>The film's title refers not only to the un-re...</td>\n",
       "    </tr>\n",
       "  </tbody>\n",
       "</table>\n",
       "</div>"
      ],
      "text/plain": [
       "                                Title       Genre  \\\n",
       "1       Oscar et la dame rose (2009)       drama    \n",
       "2                       Cupid (1997)    thriller    \n",
       "3   Young, Wild and Wonderful (1980)       adult    \n",
       "4              The Secret Sin (1915)       drama    \n",
       "5             The Unrecovered (2007)       drama    \n",
       "\n",
       "                                         Description  \n",
       "1   Listening in to a conversation between his do...  \n",
       "2   A brother and sister with a past incestuous r...  \n",
       "3   As the bus empties the students for their fie...  \n",
       "4   To help their unemployed father make ends mee...  \n",
       "5   The film's title refers not only to the un-re...  "
      ]
     },
     "execution_count": 3,
     "metadata": {},
     "output_type": "execute_result"
    }
   ],
   "source": [
    "train_data.head()"
   ]
  },
  {
   "cell_type": "code",
   "execution_count": 4,
   "id": "aea47a80",
   "metadata": {
    "execution": {
     "iopub.execute_input": "2024-08-11T13:46:40.086452Z",
     "iopub.status.busy": "2024-08-11T13:46:40.086083Z",
     "iopub.status.idle": "2024-08-11T13:46:40.694621Z",
     "shell.execute_reply": "2024-08-11T13:46:40.693796Z"
    },
    "papermill": {
     "duration": 0.623226,
     "end_time": "2024-08-11T13:46:40.696945",
     "exception": false,
     "start_time": "2024-08-11T13:46:40.073719",
     "status": "completed"
    },
    "tags": []
   },
   "outputs": [],
   "source": [
    "test_path = \"../input/genre-classification-dataset-imdb/Genre Classification Dataset/test_data.txt\"\n",
    "test_data = pd.read_csv(test_path, sep = ':::', names = ['Id', 'Title', 'Description'], engine = 'python')"
   ]
  },
  {
   "cell_type": "code",
   "execution_count": 5,
   "id": "d10eb391",
   "metadata": {
    "execution": {
     "iopub.execute_input": "2024-08-11T13:46:40.720435Z",
     "iopub.status.busy": "2024-08-11T13:46:40.720080Z",
     "iopub.status.idle": "2024-08-11T13:46:40.729466Z",
     "shell.execute_reply": "2024-08-11T13:46:40.728660Z"
    },
    "papermill": {
     "duration": 0.023401,
     "end_time": "2024-08-11T13:46:40.731432",
     "exception": false,
     "start_time": "2024-08-11T13:46:40.708031",
     "status": "completed"
    },
    "tags": []
   },
   "outputs": [
    {
     "data": {
      "text/html": [
       "<div>\n",
       "<style scoped>\n",
       "    .dataframe tbody tr th:only-of-type {\n",
       "        vertical-align: middle;\n",
       "    }\n",
       "\n",
       "    .dataframe tbody tr th {\n",
       "        vertical-align: top;\n",
       "    }\n",
       "\n",
       "    .dataframe thead th {\n",
       "        text-align: right;\n",
       "    }\n",
       "</style>\n",
       "<table border=\"1\" class=\"dataframe\">\n",
       "  <thead>\n",
       "    <tr style=\"text-align: right;\">\n",
       "      <th></th>\n",
       "      <th>Id</th>\n",
       "      <th>Title</th>\n",
       "      <th>Description</th>\n",
       "    </tr>\n",
       "  </thead>\n",
       "  <tbody>\n",
       "    <tr>\n",
       "      <th>0</th>\n",
       "      <td>1</td>\n",
       "      <td>Edgar's Lunch (1998)</td>\n",
       "      <td>L.R. Brane loves his life - his car, his apar...</td>\n",
       "    </tr>\n",
       "    <tr>\n",
       "      <th>1</th>\n",
       "      <td>2</td>\n",
       "      <td>La guerra de papá (1977)</td>\n",
       "      <td>Spain, March 1964: Quico is a very naughty ch...</td>\n",
       "    </tr>\n",
       "    <tr>\n",
       "      <th>2</th>\n",
       "      <td>3</td>\n",
       "      <td>Off the Beaten Track (2010)</td>\n",
       "      <td>One year in the life of Albin and his family ...</td>\n",
       "    </tr>\n",
       "    <tr>\n",
       "      <th>3</th>\n",
       "      <td>4</td>\n",
       "      <td>Meu Amigo Hindu (2015)</td>\n",
       "      <td>His father has died, he hasn't spoken with hi...</td>\n",
       "    </tr>\n",
       "    <tr>\n",
       "      <th>4</th>\n",
       "      <td>5</td>\n",
       "      <td>Er nu zhai (1955)</td>\n",
       "      <td>Before he was known internationally as a mart...</td>\n",
       "    </tr>\n",
       "  </tbody>\n",
       "</table>\n",
       "</div>"
      ],
      "text/plain": [
       "   Id                          Title  \\\n",
       "0   1          Edgar's Lunch (1998)    \n",
       "1   2      La guerra de papá (1977)    \n",
       "2   3   Off the Beaten Track (2010)    \n",
       "3   4        Meu Amigo Hindu (2015)    \n",
       "4   5             Er nu zhai (1955)    \n",
       "\n",
       "                                         Description  \n",
       "0   L.R. Brane loves his life - his car, his apar...  \n",
       "1   Spain, March 1964: Quico is a very naughty ch...  \n",
       "2   One year in the life of Albin and his family ...  \n",
       "3   His father has died, he hasn't spoken with hi...  \n",
       "4   Before he was known internationally as a mart...  "
      ]
     },
     "execution_count": 5,
     "metadata": {},
     "output_type": "execute_result"
    }
   ],
   "source": [
    "test_data.head()"
   ]
  },
  {
   "cell_type": "markdown",
   "id": "8c07c808",
   "metadata": {
    "papermill": {
     "duration": 0.010989,
     "end_time": "2024-08-11T13:46:40.753481",
     "exception": false,
     "start_time": "2024-08-11T13:46:40.742492",
     "status": "completed"
    },
    "tags": []
   },
   "source": [
    "### Data Preprocessing"
   ]
  },
  {
   "cell_type": "code",
   "execution_count": 6,
   "id": "c400e4c3",
   "metadata": {
    "execution": {
     "iopub.execute_input": "2024-08-11T13:46:40.776763Z",
     "iopub.status.busy": "2024-08-11T13:46:40.776452Z",
     "iopub.status.idle": "2024-08-11T13:46:40.781987Z",
     "shell.execute_reply": "2024-08-11T13:46:40.781155Z"
    },
    "papermill": {
     "duration": 0.019482,
     "end_time": "2024-08-11T13:46:40.783953",
     "exception": false,
     "start_time": "2024-08-11T13:46:40.764471",
     "status": "completed"
    },
    "tags": []
   },
   "outputs": [
    {
     "data": {
      "text/plain": [
       "(54214, 3)"
      ]
     },
     "execution_count": 6,
     "metadata": {},
     "output_type": "execute_result"
    }
   ],
   "source": [
    "train_data.shape"
   ]
  },
  {
   "cell_type": "code",
   "execution_count": 7,
   "id": "824b1185",
   "metadata": {
    "execution": {
     "iopub.execute_input": "2024-08-11T13:46:40.807647Z",
     "iopub.status.busy": "2024-08-11T13:46:40.807346Z",
     "iopub.status.idle": "2024-08-11T13:46:40.812981Z",
     "shell.execute_reply": "2024-08-11T13:46:40.812072Z"
    },
    "papermill": {
     "duration": 0.019874,
     "end_time": "2024-08-11T13:46:40.814910",
     "exception": false,
     "start_time": "2024-08-11T13:46:40.795036",
     "status": "completed"
    },
    "tags": []
   },
   "outputs": [
    {
     "data": {
      "text/plain": [
       "(54200, 3)"
      ]
     },
     "execution_count": 7,
     "metadata": {},
     "output_type": "execute_result"
    }
   ],
   "source": [
    "test_data.shape"
   ]
  },
  {
   "cell_type": "code",
   "execution_count": 8,
   "id": "133896f7",
   "metadata": {
    "execution": {
     "iopub.execute_input": "2024-08-11T13:46:40.838937Z",
     "iopub.status.busy": "2024-08-11T13:46:40.838627Z",
     "iopub.status.idle": "2024-08-11T13:46:40.953977Z",
     "shell.execute_reply": "2024-08-11T13:46:40.953009Z"
    },
    "papermill": {
     "duration": 0.130011,
     "end_time": "2024-08-11T13:46:40.956139",
     "exception": false,
     "start_time": "2024-08-11T13:46:40.826128",
     "status": "completed"
    },
    "tags": []
   },
   "outputs": [
    {
     "data": {
      "text/html": [
       "<div>\n",
       "<style scoped>\n",
       "    .dataframe tbody tr th:only-of-type {\n",
       "        vertical-align: middle;\n",
       "    }\n",
       "\n",
       "    .dataframe tbody tr th {\n",
       "        vertical-align: top;\n",
       "    }\n",
       "\n",
       "    .dataframe thead th {\n",
       "        text-align: right;\n",
       "    }\n",
       "</style>\n",
       "<table border=\"1\" class=\"dataframe\">\n",
       "  <thead>\n",
       "    <tr style=\"text-align: right;\">\n",
       "      <th></th>\n",
       "      <th>Title</th>\n",
       "      <th>Genre</th>\n",
       "      <th>Description</th>\n",
       "    </tr>\n",
       "  </thead>\n",
       "  <tbody>\n",
       "    <tr>\n",
       "      <th>count</th>\n",
       "      <td>54214</td>\n",
       "      <td>54214</td>\n",
       "      <td>54214</td>\n",
       "    </tr>\n",
       "    <tr>\n",
       "      <th>unique</th>\n",
       "      <td>54214</td>\n",
       "      <td>27</td>\n",
       "      <td>54086</td>\n",
       "    </tr>\n",
       "    <tr>\n",
       "      <th>top</th>\n",
       "      <td>Nature's Fury: Storm of the Century (2006)</td>\n",
       "      <td>drama</td>\n",
       "      <td>Grammy - music award of the American academy ...</td>\n",
       "    </tr>\n",
       "    <tr>\n",
       "      <th>freq</th>\n",
       "      <td>1</td>\n",
       "      <td>13613</td>\n",
       "      <td>12</td>\n",
       "    </tr>\n",
       "  </tbody>\n",
       "</table>\n",
       "</div>"
      ],
      "text/plain": [
       "                                               Title    Genre  \\\n",
       "count                                          54214    54214   \n",
       "unique                                         54214       27   \n",
       "top      Nature's Fury: Storm of the Century (2006)    drama    \n",
       "freq                                               1    13613   \n",
       "\n",
       "                                              Description  \n",
       "count                                               54214  \n",
       "unique                                              54086  \n",
       "top      Grammy - music award of the American academy ...  \n",
       "freq                                                   12  "
      ]
     },
     "execution_count": 8,
     "metadata": {},
     "output_type": "execute_result"
    }
   ],
   "source": [
    "train_data.describe()"
   ]
  },
  {
   "cell_type": "code",
   "execution_count": 9,
   "id": "1cfc4d18",
   "metadata": {
    "execution": {
     "iopub.execute_input": "2024-08-11T13:46:40.981841Z",
     "iopub.status.busy": "2024-08-11T13:46:40.981514Z",
     "iopub.status.idle": "2024-08-11T13:46:41.015451Z",
     "shell.execute_reply": "2024-08-11T13:46:41.014053Z"
    },
    "papermill": {
     "duration": 0.049027,
     "end_time": "2024-08-11T13:46:41.017665",
     "exception": false,
     "start_time": "2024-08-11T13:46:40.968638",
     "status": "completed"
    },
    "tags": []
   },
   "outputs": [
    {
     "name": "stdout",
     "output_type": "stream",
     "text": [
      "<class 'pandas.core.frame.DataFrame'>\n",
      "Index: 54214 entries, 1 to 54214\n",
      "Data columns (total 3 columns):\n",
      " #   Column       Non-Null Count  Dtype \n",
      "---  ------       --------------  ----- \n",
      " 0   Title        54214 non-null  object\n",
      " 1   Genre        54214 non-null  object\n",
      " 2   Description  54214 non-null  object\n",
      "dtypes: object(3)\n",
      "memory usage: 1.7+ MB\n"
     ]
    }
   ],
   "source": [
    "train_data.info()"
   ]
  },
  {
   "cell_type": "code",
   "execution_count": 10,
   "id": "b09ae24c",
   "metadata": {
    "execution": {
     "iopub.execute_input": "2024-08-11T13:46:41.044704Z",
     "iopub.status.busy": "2024-08-11T13:46:41.043619Z",
     "iopub.status.idle": "2024-08-11T13:46:41.069036Z",
     "shell.execute_reply": "2024-08-11T13:46:41.068167Z"
    },
    "papermill": {
     "duration": 0.040551,
     "end_time": "2024-08-11T13:46:41.070900",
     "exception": false,
     "start_time": "2024-08-11T13:46:41.030349",
     "status": "completed"
    },
    "tags": []
   },
   "outputs": [
    {
     "data": {
      "text/plain": [
       "Title          0\n",
       "Genre          0\n",
       "Description    0\n",
       "dtype: int64"
      ]
     },
     "execution_count": 10,
     "metadata": {},
     "output_type": "execute_result"
    }
   ],
   "source": [
    "train_data.isnull().sum()"
   ]
  },
  {
   "cell_type": "markdown",
   "id": "6e126c03",
   "metadata": {
    "papermill": {
     "duration": 0.011336,
     "end_time": "2024-08-11T13:46:41.094002",
     "exception": false,
     "start_time": "2024-08-11T13:46:41.082666",
     "status": "completed"
    },
    "tags": []
   },
   "source": [
    "### EDA and Data Visualization"
   ]
  },
  {
   "cell_type": "code",
   "execution_count": 11,
   "id": "38449606",
   "metadata": {
    "execution": {
     "iopub.execute_input": "2024-08-11T13:46:41.118948Z",
     "iopub.status.busy": "2024-08-11T13:46:41.118600Z",
     "iopub.status.idle": "2024-08-11T13:46:41.685975Z",
     "shell.execute_reply": "2024-08-11T13:46:41.684963Z"
    },
    "papermill": {
     "duration": 0.582717,
     "end_time": "2024-08-11T13:46:41.688377",
     "exception": false,
     "start_time": "2024-08-11T13:46:41.105660",
     "status": "completed"
    },
    "tags": []
   },
   "outputs": [
    {
     "data": {
      "text/plain": [
       "Text(0, 0.5, 'Genre')"
      ]
     },
     "execution_count": 11,
     "metadata": {},
     "output_type": "execute_result"
    },
    {
     "data": {
      "image/png": "[encoded data removed]",
      "text/plain": [
       "<Figure size 1400x700 with 1 Axes>"
      ]
     },
     "metadata": {},
     "output_type": "display_data"
    }
   ],
   "source": [
    "plt.figure(figsize = (14, 7))\n",
    "sns.countplot(data = train_data, y = 'Genre', hue = None, order = train_data['Genre'].value_counts().index)\n",
    "plt.xlabel('Count', fontsize = 14, fontweight = 'bold')\n",
    "plt.ylabel('Genre', fontsize = 14, fontweight = 'bold')"
   ]
  },
  {
   "cell_type": "code",
   "execution_count": 12,
   "id": "8ef17d79",
   "metadata": {
    "execution": {
     "iopub.execute_input": "2024-08-11T13:46:41.716218Z",
     "iopub.status.busy": "2024-08-11T13:46:41.715222Z",
     "iopub.status.idle": "2024-08-11T13:46:42.325174Z",
     "shell.execute_reply": "2024-08-11T13:46:42.324143Z"
    },
    "papermill": {
     "duration": 0.625929,
     "end_time": "2024-08-11T13:46:42.327612",
     "exception": false,
     "start_time": "2024-08-11T13:46:41.701683",
     "status": "completed"
    },
    "tags": []
   },
   "outputs": [
    {
     "data": {
      "image/png": "[encoded data removed]",
      "text/plain": [
       "<Figure size 1400x700 with 1 Axes>"
      ]
     },
     "metadata": {},
     "output_type": "display_data"
    }
   ],
   "source": [
    "plt.figure(figsize = (14,7))\n",
    "counts = train_data.Genre.value_counts()\n",
    "sns.barplot(x = counts.index, y = counts, color = 'blue')\n",
    "plt.title('Distribution of Genres', fontsize = 14, fontweight = 'bold')\n",
    "plt.xlabel('Genre', fontsize = 14, fontweight = 'bold')\n",
    "plt.ylabel('Count', fontsize = 14, fontweight = 'bold')\n",
    "plt.xticks(rotation = 90, fontsize = 14, fontweight = 'bold');"
   ]
  },
  {
   "cell_type": "code",
   "execution_count": 13,
   "id": "0034e941",
   "metadata": {
    "execution": {
     "iopub.execute_input": "2024-08-11T13:46:42.359043Z",
     "iopub.status.busy": "2024-08-11T13:46:42.358672Z",
     "iopub.status.idle": "2024-08-11T13:46:42.407305Z",
     "shell.execute_reply": "2024-08-11T13:46:42.406381Z"
    },
    "papermill": {
     "duration": 0.066487,
     "end_time": "2024-08-11T13:46:42.409448",
     "exception": false,
     "start_time": "2024-08-11T13:46:42.342961",
     "status": "completed"
    },
    "tags": []
   },
   "outputs": [
    {
     "data": {
      "text/html": [
       "<div>\n",
       "<style scoped>\n",
       "    .dataframe tbody tr th:only-of-type {\n",
       "        vertical-align: middle;\n",
       "    }\n",
       "\n",
       "    .dataframe tbody tr th {\n",
       "        vertical-align: top;\n",
       "    }\n",
       "\n",
       "    .dataframe thead th {\n",
       "        text-align: right;\n",
       "    }\n",
       "</style>\n",
       "<table border=\"1\" class=\"dataframe\">\n",
       "  <thead>\n",
       "    <tr style=\"text-align: right;\">\n",
       "      <th></th>\n",
       "      <th>Title</th>\n",
       "      <th>Genre</th>\n",
       "      <th>Description</th>\n",
       "      <th>length</th>\n",
       "    </tr>\n",
       "  </thead>\n",
       "  <tbody>\n",
       "    <tr>\n",
       "      <th>1</th>\n",
       "      <td>Oscar et la dame rose (2009)</td>\n",
       "      <td>drama</td>\n",
       "      <td>Listening in to a conversation between his do...</td>\n",
       "      <td>546</td>\n",
       "    </tr>\n",
       "    <tr>\n",
       "      <th>2</th>\n",
       "      <td>Cupid (1997)</td>\n",
       "      <td>thriller</td>\n",
       "      <td>A brother and sister with a past incestuous r...</td>\n",
       "      <td>184</td>\n",
       "    </tr>\n",
       "    <tr>\n",
       "      <th>3</th>\n",
       "      <td>Young, Wild and Wonderful (1980)</td>\n",
       "      <td>adult</td>\n",
       "      <td>As the bus empties the students for their fie...</td>\n",
       "      <td>650</td>\n",
       "    </tr>\n",
       "    <tr>\n",
       "      <th>4</th>\n",
       "      <td>The Secret Sin (1915)</td>\n",
       "      <td>drama</td>\n",
       "      <td>To help their unemployed father make ends mee...</td>\n",
       "      <td>1082</td>\n",
       "    </tr>\n",
       "    <tr>\n",
       "      <th>5</th>\n",
       "      <td>The Unrecovered (2007)</td>\n",
       "      <td>drama</td>\n",
       "      <td>The film's title refers not only to the un-re...</td>\n",
       "      <td>625</td>\n",
       "    </tr>\n",
       "  </tbody>\n",
       "</table>\n",
       "</div>"
      ],
      "text/plain": [
       "                                Title       Genre  \\\n",
       "1       Oscar et la dame rose (2009)       drama    \n",
       "2                       Cupid (1997)    thriller    \n",
       "3   Young, Wild and Wonderful (1980)       adult    \n",
       "4              The Secret Sin (1915)       drama    \n",
       "5             The Unrecovered (2007)       drama    \n",
       "\n",
       "                                         Description  length  \n",
       "1   Listening in to a conversation between his do...     546  \n",
       "2   A brother and sister with a past incestuous r...     184  \n",
       "3   As the bus empties the students for their fie...     650  \n",
       "4   To help their unemployed father make ends mee...    1082  \n",
       "5   The film's title refers not only to the un-re...     625  "
      ]
     },
     "execution_count": 13,
     "metadata": {},
     "output_type": "execute_result"
    }
   ],
   "source": [
    "train_data['length'] = train_data['Description'].apply(len)\n",
    "train_data.head()"
   ]
  },
  {
   "cell_type": "code",
   "execution_count": 14,
   "id": "311cbe61",
   "metadata": {
    "execution": {
     "iopub.execute_input": "2024-08-11T13:46:42.440693Z",
     "iopub.status.busy": "2024-08-11T13:46:42.439919Z",
     "iopub.status.idle": "2024-08-11T13:46:43.031144Z",
     "shell.execute_reply": "2024-08-11T13:46:43.030190Z"
    },
    "papermill": {
     "duration": 0.609305,
     "end_time": "2024-08-11T13:46:43.033396",
     "exception": false,
     "start_time": "2024-08-11T13:46:42.424091",
     "status": "completed"
    },
    "tags": []
   },
   "outputs": [
    {
     "name": "stderr",
     "output_type": "stream",
     "text": [
      "/opt/conda/lib/python3.10/site-packages/seaborn/_oldcore.py:1119: FutureWarning: use_inf_as_na option is deprecated and will be removed in a future version. Convert inf values to NaN before operating instead.\n",
      "  with pd.option_context('mode.use_inf_as_na', True):\n"
     ]
    },
    {
     "data": {
      "image/png": "[encoded data removed]",
      "text/plain": [
       "<Figure size 800x700 with 1 Axes>"
      ]
     },
     "metadata": {},
     "output_type": "display_data"
    }
   ],
   "source": [
    "plt.figure(figsize = (8,7))\n",
    "sns.histplot(data = train_data, x = 'length', bins = 20, kde = True, color = 'blue')\n",
    "plt.xlabel('Length', fontsize = 14, fontweight = 'bold')\n",
    "plt.ylabel('Frequency', fontsize = 14, fontweight = 'bold')\n",
    "plt.title('Distribution of length', fontsize = 14, fontweight = 'bold')\n",
    "plt.show()"
   ]
  },
  {
   "cell_type": "markdown",
   "id": "05a4a971",
   "metadata": {
    "papermill": {
     "duration": 0.014908,
     "end_time": "2024-08-11T13:46:43.063041",
     "exception": false,
     "start_time": "2024-08-11T13:46:43.048133",
     "status": "completed"
    },
    "tags": []
   },
   "source": [
    "### Data Cleaning and Preprocessing"
   ]
  },
  {
   "cell_type": "code",
   "execution_count": 15,
   "id": "c19c3016",
   "metadata": {
    "execution": {
     "iopub.execute_input": "2024-08-11T13:46:43.094721Z",
     "iopub.status.busy": "2024-08-11T13:46:43.094317Z",
     "iopub.status.idle": "2024-08-11T13:46:43.113140Z",
     "shell.execute_reply": "2024-08-11T13:46:43.112071Z"
    },
    "papermill": {
     "duration": 0.037204,
     "end_time": "2024-08-11T13:46:43.115245",
     "exception": false,
     "start_time": "2024-08-11T13:46:43.078041",
     "status": "completed"
    },
    "tags": []
   },
   "outputs": [
    {
     "name": "stdout",
     "output_type": "stream",
     "text": [
      "Original text: Certainly you get a dramatic boost from hello bye the the hi -iv iem-k q934*2yee !*3 2e38\n",
      "Cleaned text: certain get dram boost hello bye iem\n"
     ]
    }
   ],
   "source": [
    "stemmer = LancasterStemmer()\n",
    "stop_words = set(stopwords.words('english'))\n",
    "\n",
    "def clean_text(text):\n",
    "    text = text.lower()\n",
    "    text = re.sub('-', ' ', text.lower())\n",
    "    text = re.sub(f'[{string.digits}]', ' ', text)\n",
    "    text = ' '.join([stemmer.stem(word) for word in text.split() if word not in stop_words])\n",
    "    text = re.sub(r'@\\S+', '', text)\n",
    "    text = re.sub(r'https\\S+', '', text)\n",
    "    text = re.sub(r'pic.\\S+', '', text)\n",
    "    text = re.sub(r\"[^a-zA-Z+']\", ' ', text)\n",
    "    text = re.sub(r'\\s+[a-zA-Z]\\s+', ' ', text+' ')\n",
    "    text = \"\".join([i for i in text if i not in string.punctuation])\n",
    "    words = nltk.tokenize.word_tokenize(text, language = 'english', preserve_line = True)\n",
    "    stopwords = nltk.corpus.stopwords.words('english')\n",
    "    text = \" \".join([i for i in words if i not in stopwords and len(i)>2])\n",
    "    text = re.sub(\"\\s[\\s]+\", ' ', text).strip()\n",
    "    return re.sub(f'[{re.escape(string.punctuation)}]', '', text)\n",
    "\n",
    "input_text = \"Certainly you get a dramatic boost from hello bye the the hi -iv iem-k q934*2yee !*3 2e38\"\n",
    "print(f'Original text: {input_text}')\n",
    "print(f'Cleaned text: {clean_text(input_text)}')"
   ]
  },
  {
   "cell_type": "code",
   "execution_count": 16,
   "id": "3319a1fc",
   "metadata": {
    "execution": {
     "iopub.execute_input": "2024-08-11T13:46:43.146641Z",
     "iopub.status.busy": "2024-08-11T13:46:43.146237Z",
     "iopub.status.idle": "2024-08-11T13:50:51.800691Z",
     "shell.execute_reply": "2024-08-11T13:50:51.799629Z"
    },
    "papermill": {
     "duration": 248.672957,
     "end_time": "2024-08-11T13:50:51.803242",
     "exception": false,
     "start_time": "2024-08-11T13:46:43.130285",
     "status": "completed"
    },
    "tags": []
   },
   "outputs": [],
   "source": [
    "train_data['Text_cleaning'] = train_data['Description'].apply(clean_text)\n",
    "test_data['Text_cleaning'] = test_data['Description'].apply(clean_text)"
   ]
  },
  {
   "cell_type": "code",
   "execution_count": 17,
   "id": "7c05942c",
   "metadata": {
    "execution": {
     "iopub.execute_input": "2024-08-11T13:50:51.833891Z",
     "iopub.status.busy": "2024-08-11T13:50:51.833602Z",
     "iopub.status.idle": "2024-08-11T13:50:51.844748Z",
     "shell.execute_reply": "2024-08-11T13:50:51.843907Z"
    },
    "papermill": {
     "duration": 0.028496,
     "end_time": "2024-08-11T13:50:51.846750",
     "exception": false,
     "start_time": "2024-08-11T13:50:51.818254",
     "status": "completed"
    },
    "tags": []
   },
   "outputs": [
    {
     "data": {
      "text/html": [
       "<div>\n",
       "<style scoped>\n",
       "    .dataframe tbody tr th:only-of-type {\n",
       "        vertical-align: middle;\n",
       "    }\n",
       "\n",
       "    .dataframe tbody tr th {\n",
       "        vertical-align: top;\n",
       "    }\n",
       "\n",
       "    .dataframe thead th {\n",
       "        text-align: right;\n",
       "    }\n",
       "</style>\n",
       "<table border=\"1\" class=\"dataframe\">\n",
       "  <thead>\n",
       "    <tr style=\"text-align: right;\">\n",
       "      <th></th>\n",
       "      <th>Title</th>\n",
       "      <th>Genre</th>\n",
       "      <th>Description</th>\n",
       "      <th>length</th>\n",
       "      <th>Text_cleaning</th>\n",
       "    </tr>\n",
       "  </thead>\n",
       "  <tbody>\n",
       "    <tr>\n",
       "      <th>1</th>\n",
       "      <td>Oscar et la dame rose (2009)</td>\n",
       "      <td>drama</td>\n",
       "      <td>Listening in to a conversation between his do...</td>\n",
       "      <td>546</td>\n",
       "      <td>list convers doct parents year old osc learn n...</td>\n",
       "    </tr>\n",
       "    <tr>\n",
       "      <th>2</th>\n",
       "      <td>Cupid (1997)</td>\n",
       "      <td>thriller</td>\n",
       "      <td>A brother and sister with a past incestuous r...</td>\n",
       "      <td>184</td>\n",
       "      <td>broth sist past incestu rel cur murd relations...</td>\n",
       "    </tr>\n",
       "    <tr>\n",
       "      <th>3</th>\n",
       "      <td>Young, Wild and Wonderful (1980)</td>\n",
       "      <td>adult</td>\n",
       "      <td>As the bus empties the students for their fie...</td>\n",
       "      <td>650</td>\n",
       "      <td>bus empty stud field trip muse nat history lit...</td>\n",
       "    </tr>\n",
       "    <tr>\n",
       "      <th>4</th>\n",
       "      <td>The Secret Sin (1915)</td>\n",
       "      <td>drama</td>\n",
       "      <td>To help their unemployed father make ends mee...</td>\n",
       "      <td>1082</td>\n",
       "      <td>help unemploy fath mak end meet edi twin sist ...</td>\n",
       "    </tr>\n",
       "    <tr>\n",
       "      <th>5</th>\n",
       "      <td>The Unrecovered (2007)</td>\n",
       "      <td>drama</td>\n",
       "      <td>The film's title refers not only to the un-re...</td>\n",
       "      <td>625</td>\n",
       "      <td>films titl ref recov body ground zero also sta...</td>\n",
       "    </tr>\n",
       "  </tbody>\n",
       "</table>\n",
       "</div>"
      ],
      "text/plain": [
       "                                Title       Genre  \\\n",
       "1       Oscar et la dame rose (2009)       drama    \n",
       "2                       Cupid (1997)    thriller    \n",
       "3   Young, Wild and Wonderful (1980)       adult    \n",
       "4              The Secret Sin (1915)       drama    \n",
       "5             The Unrecovered (2007)       drama    \n",
       "\n",
       "                                         Description  length  \\\n",
       "1   Listening in to a conversation between his do...     546   \n",
       "2   A brother and sister with a past incestuous r...     184   \n",
       "3   As the bus empties the students for their fie...     650   \n",
       "4   To help their unemployed father make ends mee...    1082   \n",
       "5   The film's title refers not only to the un-re...     625   \n",
       "\n",
       "                                       Text_cleaning  \n",
       "1  list convers doct parents year old osc learn n...  \n",
       "2  broth sist past incestu rel cur murd relations...  \n",
       "3  bus empty stud field trip muse nat history lit...  \n",
       "4  help unemploy fath mak end meet edi twin sist ...  \n",
       "5  films titl ref recov body ground zero also sta...  "
      ]
     },
     "execution_count": 17,
     "metadata": {},
     "output_type": "execute_result"
    }
   ],
   "source": [
    "train_data.head()"
   ]
  },
  {
   "cell_type": "code",
   "execution_count": 18,
   "id": "9bd69636",
   "metadata": {
    "execution": {
     "iopub.execute_input": "2024-08-11T13:50:51.877754Z",
     "iopub.status.busy": "2024-08-11T13:50:51.877049Z",
     "iopub.status.idle": "2024-08-11T13:50:51.887098Z",
     "shell.execute_reply": "2024-08-11T13:50:51.886228Z"
    },
    "papermill": {
     "duration": 0.027157,
     "end_time": "2024-08-11T13:50:51.888963",
     "exception": false,
     "start_time": "2024-08-11T13:50:51.861806",
     "status": "completed"
    },
    "tags": []
   },
   "outputs": [
    {
     "data": {
      "text/html": [
       "<div>\n",
       "<style scoped>\n",
       "    .dataframe tbody tr th:only-of-type {\n",
       "        vertical-align: middle;\n",
       "    }\n",
       "\n",
       "    .dataframe tbody tr th {\n",
       "        vertical-align: top;\n",
       "    }\n",
       "\n",
       "    .dataframe thead th {\n",
       "        text-align: right;\n",
       "    }\n",
       "</style>\n",
       "<table border=\"1\" class=\"dataframe\">\n",
       "  <thead>\n",
       "    <tr style=\"text-align: right;\">\n",
       "      <th></th>\n",
       "      <th>Id</th>\n",
       "      <th>Title</th>\n",
       "      <th>Description</th>\n",
       "      <th>Text_cleaning</th>\n",
       "    </tr>\n",
       "  </thead>\n",
       "  <tbody>\n",
       "    <tr>\n",
       "      <th>0</th>\n",
       "      <td>1</td>\n",
       "      <td>Edgar's Lunch (1998)</td>\n",
       "      <td>L.R. Brane loves his life - his car, his apar...</td>\n",
       "      <td>bran lov lif car apartment job espec girlfrien...</td>\n",
       "    </tr>\n",
       "    <tr>\n",
       "      <th>1</th>\n",
       "      <td>2</td>\n",
       "      <td>La guerra de papá (1977)</td>\n",
       "      <td>Spain, March 1964: Quico is a very naughty ch...</td>\n",
       "      <td>spain march quico naughty child three belong w...</td>\n",
       "    </tr>\n",
       "    <tr>\n",
       "      <th>2</th>\n",
       "      <td>3</td>\n",
       "      <td>Off the Beaten Track (2010)</td>\n",
       "      <td>One year in the life of Albin and his family ...</td>\n",
       "      <td>year lif albin famy shepherd transylvania dire...</td>\n",
       "    </tr>\n",
       "    <tr>\n",
       "      <th>3</th>\n",
       "      <td>4</td>\n",
       "      <td>Meu Amigo Hindu (2015)</td>\n",
       "      <td>His father has died, he hasn't spoken with hi...</td>\n",
       "      <td>fath died spok broth year sery cancer diego ta...</td>\n",
       "    </tr>\n",
       "    <tr>\n",
       "      <th>4</th>\n",
       "      <td>5</td>\n",
       "      <td>Er nu zhai (1955)</td>\n",
       "      <td>Before he was known internationally as a mart...</td>\n",
       "      <td>known intern mart art superstar bruc lee appea...</td>\n",
       "    </tr>\n",
       "  </tbody>\n",
       "</table>\n",
       "</div>"
      ],
      "text/plain": [
       "   Id                          Title  \\\n",
       "0   1          Edgar's Lunch (1998)    \n",
       "1   2      La guerra de papá (1977)    \n",
       "2   3   Off the Beaten Track (2010)    \n",
       "3   4        Meu Amigo Hindu (2015)    \n",
       "4   5             Er nu zhai (1955)    \n",
       "\n",
       "                                         Description  \\\n",
       "0   L.R. Brane loves his life - his car, his apar...   \n",
       "1   Spain, March 1964: Quico is a very naughty ch...   \n",
       "2   One year in the life of Albin and his family ...   \n",
       "3   His father has died, he hasn't spoken with hi...   \n",
       "4   Before he was known internationally as a mart...   \n",
       "\n",
       "                                       Text_cleaning  \n",
       "0  bran lov lif car apartment job espec girlfrien...  \n",
       "1  spain march quico naughty child three belong w...  \n",
       "2  year lif albin famy shepherd transylvania dire...  \n",
       "3  fath died spok broth year sery cancer diego ta...  \n",
       "4  known intern mart art superstar bruc lee appea...  "
      ]
     },
     "execution_count": 18,
     "metadata": {},
     "output_type": "execute_result"
    }
   ],
   "source": [
    "test_data.head()"
   ]
  },
  {
   "cell_type": "code",
   "execution_count": 19,
   "id": "cb846e69",
   "metadata": {
    "execution": {
     "iopub.execute_input": "2024-08-11T13:50:51.919677Z",
     "iopub.status.busy": "2024-08-11T13:50:51.919415Z",
     "iopub.status.idle": "2024-08-11T13:50:51.966161Z",
     "shell.execute_reply": "2024-08-11T13:50:51.965306Z"
    },
    "papermill": {
     "duration": 0.064274,
     "end_time": "2024-08-11T13:50:51.967991",
     "exception": false,
     "start_time": "2024-08-11T13:50:51.903717",
     "status": "completed"
    },
    "tags": []
   },
   "outputs": [
    {
     "data": {
      "text/html": [
       "<div>\n",
       "<style scoped>\n",
       "    .dataframe tbody tr th:only-of-type {\n",
       "        vertical-align: middle;\n",
       "    }\n",
       "\n",
       "    .dataframe tbody tr th {\n",
       "        vertical-align: top;\n",
       "    }\n",
       "\n",
       "    .dataframe thead th {\n",
       "        text-align: right;\n",
       "    }\n",
       "</style>\n",
       "<table border=\"1\" class=\"dataframe\">\n",
       "  <thead>\n",
       "    <tr style=\"text-align: right;\">\n",
       "      <th></th>\n",
       "      <th>Title</th>\n",
       "      <th>Genre</th>\n",
       "      <th>Description</th>\n",
       "      <th>length</th>\n",
       "      <th>Text_cleaning</th>\n",
       "      <th>len_clean_text</th>\n",
       "    </tr>\n",
       "  </thead>\n",
       "  <tbody>\n",
       "    <tr>\n",
       "      <th>1</th>\n",
       "      <td>Oscar et la dame rose (2009)</td>\n",
       "      <td>drama</td>\n",
       "      <td>Listening in to a conversation between his do...</td>\n",
       "      <td>546</td>\n",
       "      <td>list convers doct parents year old osc learn n...</td>\n",
       "      <td>324</td>\n",
       "    </tr>\n",
       "    <tr>\n",
       "      <th>2</th>\n",
       "      <td>Cupid (1997)</td>\n",
       "      <td>thriller</td>\n",
       "      <td>A brother and sister with a past incestuous r...</td>\n",
       "      <td>184</td>\n",
       "      <td>broth sist past incestu rel cur murd relations...</td>\n",
       "      <td>83</td>\n",
       "    </tr>\n",
       "    <tr>\n",
       "      <th>3</th>\n",
       "      <td>Young, Wild and Wonderful (1980)</td>\n",
       "      <td>adult</td>\n",
       "      <td>As the bus empties the students for their fie...</td>\n",
       "      <td>650</td>\n",
       "      <td>bus empty stud field trip muse nat history lit...</td>\n",
       "      <td>325</td>\n",
       "    </tr>\n",
       "    <tr>\n",
       "      <th>4</th>\n",
       "      <td>The Secret Sin (1915)</td>\n",
       "      <td>drama</td>\n",
       "      <td>To help their unemployed father make ends mee...</td>\n",
       "      <td>1082</td>\n",
       "      <td>help unemploy fath mak end meet edi twin sist ...</td>\n",
       "      <td>616</td>\n",
       "    </tr>\n",
       "    <tr>\n",
       "      <th>5</th>\n",
       "      <td>The Unrecovered (2007)</td>\n",
       "      <td>drama</td>\n",
       "      <td>The film's title refers not only to the un-re...</td>\n",
       "      <td>625</td>\n",
       "      <td>films titl ref recov body ground zero also sta...</td>\n",
       "      <td>282</td>\n",
       "    </tr>\n",
       "  </tbody>\n",
       "</table>\n",
       "</div>"
      ],
      "text/plain": [
       "                                Title       Genre  \\\n",
       "1       Oscar et la dame rose (2009)       drama    \n",
       "2                       Cupid (1997)    thriller    \n",
       "3   Young, Wild and Wonderful (1980)       adult    \n",
       "4              The Secret Sin (1915)       drama    \n",
       "5             The Unrecovered (2007)       drama    \n",
       "\n",
       "                                         Description  length  \\\n",
       "1   Listening in to a conversation between his do...     546   \n",
       "2   A brother and sister with a past incestuous r...     184   \n",
       "3   As the bus empties the students for their fie...     650   \n",
       "4   To help their unemployed father make ends mee...    1082   \n",
       "5   The film's title refers not only to the un-re...     625   \n",
       "\n",
       "                                       Text_cleaning  len_clean_text  \n",
       "1  list convers doct parents year old osc learn n...             324  \n",
       "2  broth sist past incestu rel cur murd relations...              83  \n",
       "3  bus empty stud field trip muse nat history lit...             325  \n",
       "4  help unemploy fath mak end meet edi twin sist ...             616  \n",
       "5  films titl ref recov body ground zero also sta...             282  "
      ]
     },
     "execution_count": 19,
     "metadata": {},
     "output_type": "execute_result"
    }
   ],
   "source": [
    "train_data['len_clean_text'] = train_data['Text_cleaning'].apply(len)\n",
    "train_data.head()"
   ]
  },
  {
   "cell_type": "code",
   "execution_count": 20,
   "id": "c4c65e59",
   "metadata": {
    "execution": {
     "iopub.execute_input": "2024-08-11T13:50:52.041134Z",
     "iopub.status.busy": "2024-08-11T13:50:52.040449Z",
     "iopub.status.idle": "2024-08-11T13:50:52.896263Z",
     "shell.execute_reply": "2024-08-11T13:50:52.895369Z"
    },
    "papermill": {
     "duration": 0.914945,
     "end_time": "2024-08-11T13:50:52.898239",
     "exception": false,
     "start_time": "2024-08-11T13:50:51.983294",
     "status": "completed"
    },
    "tags": []
   },
   "outputs": [
    {
     "data": {
      "image/png": "[encoded data removed]",
      "text/plain": [
       "<Figure size 1200x600 with 2 Axes>"
      ]
     },
     "metadata": {},
     "output_type": "display_data"
    }
   ],
   "source": [
    "plt.figure(figsize = (12, 6))\n",
    "\n",
    "plt.subplot(1, 2, 1)\n",
    "original_length = train_data['Description'].apply(len)\n",
    "plt.hist(original_length, bins = range(0, max(original_length) + 100, 100), color = 'blue', alpha = 0.7)\n",
    "plt.title('Original Text Length')\n",
    "plt.xlabel('Text Length')\n",
    "plt.ylabel('Frequency')\n",
    "\n",
    "plt.subplot(1, 2, 2)\n",
    "cleaned_length = train_data['Text_cleaning'].apply(len)\n",
    "plt.hist(cleaned_length, bins = range(0, max(cleaned_length) + 100, 100), color = 'green', alpha = 0.7)\n",
    "plt.title('Cleaned Text Length')\n",
    "plt.xlabel('Text Length')\n",
    "plt.ylabel('Frequency')\n",
    "\n",
    "plt.tight_layout()\n",
    "plt.show()"
   ]
  },
  {
   "cell_type": "code",
   "execution_count": 21,
   "id": "0c8bdd7c",
   "metadata": {
    "execution": {
     "iopub.execute_input": "2024-08-11T13:50:52.931045Z",
     "iopub.status.busy": "2024-08-11T13:50:52.930753Z",
     "iopub.status.idle": "2024-08-11T13:50:52.939668Z",
     "shell.execute_reply": "2024-08-11T13:50:52.938817Z"
    },
    "papermill": {
     "duration": 0.027331,
     "end_time": "2024-08-11T13:50:52.941512",
     "exception": false,
     "start_time": "2024-08-11T13:50:52.914181",
     "status": "completed"
    },
    "tags": []
   },
   "outputs": [
    {
     "data": {
      "text/plain": [
       "len_clean_text\n",
       "False    54131\n",
       "True        83\n",
       "Name: count, dtype: int64"
      ]
     },
     "execution_count": 21,
     "metadata": {},
     "output_type": "execute_result"
    }
   ],
   "source": [
    "(train_data['len_clean_text'] > 2000).value_counts()"
   ]
  },
  {
   "cell_type": "code",
   "execution_count": 22,
   "id": "18f97a3a",
   "metadata": {
    "execution": {
     "iopub.execute_input": "2024-08-11T13:50:52.974383Z",
     "iopub.status.busy": "2024-08-11T13:50:52.973661Z",
     "iopub.status.idle": "2024-08-11T13:50:52.990320Z",
     "shell.execute_reply": "2024-08-11T13:50:52.989360Z"
    },
    "papermill": {
     "duration": 0.035204,
     "end_time": "2024-08-11T13:50:52.992356",
     "exception": false,
     "start_time": "2024-08-11T13:50:52.957152",
     "status": "completed"
    },
    "tags": []
   },
   "outputs": [
    {
     "name": "stdout",
     "output_type": "stream",
     "text": [
      "Dataframe size (before removal):  54214\n",
      "Dataframe size (after removal):  54131\n",
      "Removed rows: 83\n"
     ]
    }
   ],
   "source": [
    "print('Dataframe size (before removal): ', len(train_data))\n",
    "filt = train_data['len_clean_text'] > 2000\n",
    "train_data.drop(train_data[filt].index, axis = 0, inplace = True)\n",
    "print('Dataframe size (after removal): ', len(train_data))\n",
    "print(f'Removed rows: {filt.sum()}')"
   ]
  },
  {
   "cell_type": "code",
   "execution_count": 23,
   "id": "dceea6ab",
   "metadata": {
    "execution": {
     "iopub.execute_input": "2024-08-11T13:50:53.025115Z",
     "iopub.status.busy": "2024-08-11T13:50:53.024871Z",
     "iopub.status.idle": "2024-08-11T13:50:54.430271Z",
     "shell.execute_reply": "2024-08-11T13:50:54.429395Z"
    },
    "papermill": {
     "duration": 1.424602,
     "end_time": "2024-08-11T13:50:54.432779",
     "exception": false,
     "start_time": "2024-08-11T13:50:53.008177",
     "status": "completed"
    },
    "tags": []
   },
   "outputs": [
    {
     "data": {
      "image/png": "[encoded data removed]",
      "text/plain": [
       "<Figure size 1200x500 with 1 Axes>"
      ]
     },
     "metadata": {},
     "output_type": "display_data"
    }
   ],
   "source": [
    "plt.figure(figsize = (12,5))\n",
    "sns.barplot(x = 'Genre' ,y = 'len_clean_text' ,data = train_data) \n",
    "plt.xticks(rotation = 60)\n",
    "plt.show()"
   ]
  },
  {
   "cell_type": "markdown",
   "id": "ed7c23cc",
   "metadata": {
    "papermill": {
     "duration": 0.016306,
     "end_time": "2024-08-11T13:50:54.465955",
     "exception": false,
     "start_time": "2024-08-11T13:50:54.449649",
     "status": "completed"
    },
    "tags": []
   },
   "source": [
    "### Text Tokenization and Vectorization"
   ]
  },
  {
   "cell_type": "code",
   "execution_count": 24,
   "id": "13d4f330",
   "metadata": {
    "execution": {
     "iopub.execute_input": "2024-08-11T13:50:54.500480Z",
     "iopub.status.busy": "2024-08-11T13:50:54.500150Z",
     "iopub.status.idle": "2024-08-11T13:50:57.534129Z",
     "shell.execute_reply": "2024-08-11T13:50:57.533086Z"
    },
    "papermill": {
     "duration": 3.054607,
     "end_time": "2024-08-11T13:50:57.536879",
     "exception": false,
     "start_time": "2024-08-11T13:50:54.482272",
     "status": "completed"
    },
    "tags": []
   },
   "outputs": [],
   "source": [
    "num_words = 50000\n",
    "max_len = 250\n",
    "tokenizer = Tokenizer(num_words = num_words, filters = '!\"#$%&()*+,-./:;<=>?@[\\]^_`{|}~', lower = True)\n",
    "tokenizer.fit_on_texts(train_data['Text_cleaning'].values)"
   ]
  },
  {
   "cell_type": "code",
   "execution_count": 25,
   "id": "2e02f0c4",
   "metadata": {
    "execution": {
     "iopub.execute_input": "2024-08-11T13:50:57.572761Z",
     "iopub.status.busy": "2024-08-11T13:50:57.572430Z",
     "iopub.status.idle": "2024-08-11T13:50:58.490299Z",
     "shell.execute_reply": "2024-08-11T13:50:58.489178Z"
    },
    "papermill": {
     "duration": 0.938451,
     "end_time": "2024-08-11T13:50:58.492911",
     "exception": false,
     "start_time": "2024-08-11T13:50:57.554460",
     "status": "completed"
    },
    "tags": []
   },
   "outputs": [
    {
     "data": {
      "text/html": [
       "<div>\n",
       "<style scoped>\n",
       "    .dataframe tbody tr th:only-of-type {\n",
       "        vertical-align: middle;\n",
       "    }\n",
       "\n",
       "    .dataframe tbody tr th {\n",
       "        vertical-align: top;\n",
       "    }\n",
       "\n",
       "    .dataframe thead th {\n",
       "        text-align: right;\n",
       "    }\n",
       "</style>\n",
       "<table border=\"1\" class=\"dataframe\">\n",
       "  <thead>\n",
       "    <tr style=\"text-align: right;\">\n",
       "      <th></th>\n",
       "      <th>ID</th>\n",
       "      <th>Title</th>\n",
       "      <th>Genre</th>\n",
       "      <th>Description</th>\n",
       "    </tr>\n",
       "  </thead>\n",
       "  <tbody>\n",
       "    <tr>\n",
       "      <th>0</th>\n",
       "      <td>1</td>\n",
       "      <td>Edgar's Lunch (1998)</td>\n",
       "      <td>thriller</td>\n",
       "      <td>L.R. Brane loves his life - his car, his apar...</td>\n",
       "    </tr>\n",
       "    <tr>\n",
       "      <th>1</th>\n",
       "      <td>2</td>\n",
       "      <td>La guerra de papá (1977)</td>\n",
       "      <td>comedy</td>\n",
       "      <td>Spain, March 1964: Quico is a very naughty ch...</td>\n",
       "    </tr>\n",
       "    <tr>\n",
       "      <th>2</th>\n",
       "      <td>3</td>\n",
       "      <td>Off the Beaten Track (2010)</td>\n",
       "      <td>documentary</td>\n",
       "      <td>One year in the life of Albin and his family ...</td>\n",
       "    </tr>\n",
       "    <tr>\n",
       "      <th>3</th>\n",
       "      <td>4</td>\n",
       "      <td>Meu Amigo Hindu (2015)</td>\n",
       "      <td>drama</td>\n",
       "      <td>His father has died, he hasn't spoken with hi...</td>\n",
       "    </tr>\n",
       "    <tr>\n",
       "      <th>4</th>\n",
       "      <td>5</td>\n",
       "      <td>Er nu zhai (1955)</td>\n",
       "      <td>drama</td>\n",
       "      <td>Before he was known internationally as a mart...</td>\n",
       "    </tr>\n",
       "  </tbody>\n",
       "</table>\n",
       "</div>"
      ],
      "text/plain": [
       "   ID                          Title          Genre  \\\n",
       "0   1          Edgar's Lunch (1998)       thriller    \n",
       "1   2      La guerra de papá (1977)         comedy    \n",
       "2   3   Off the Beaten Track (2010)    documentary    \n",
       "3   4        Meu Amigo Hindu (2015)          drama    \n",
       "4   5             Er nu zhai (1955)          drama    \n",
       "\n",
       "                                         Description  \n",
       "0   L.R. Brane loves his life - his car, his apar...  \n",
       "1   Spain, March 1964: Quico is a very naughty ch...  \n",
       "2   One year in the life of Albin and his family ...  \n",
       "3   His father has died, he hasn't spoken with hi...  \n",
       "4   Before he was known internationally as a mart...  "
      ]
     },
     "execution_count": 25,
     "metadata": {},
     "output_type": "execute_result"
    }
   ],
   "source": [
    "test_path = \"../input/genre-classification-dataset-imdb/Genre Classification Dataset/test_data_solution.txt\"\n",
    "test_data_sol = pd.read_csv(test_path, sep = ':::', engine = 'python', names = ['ID', 'Title', 'Genre', 'Description'])\n",
    "test_data_sol.head()"
   ]
  },
  {
   "cell_type": "markdown",
   "id": "6a91fc51",
   "metadata": {
    "papermill": {
     "duration": 0.017338,
     "end_time": "2024-08-11T13:50:58.531521",
     "exception": false,
     "start_time": "2024-08-11T13:50:58.514183",
     "status": "completed"
    },
    "tags": []
   },
   "source": [
    "### Text Vectorizer (TF-IDF)"
   ]
  },
  {
   "cell_type": "code",
   "execution_count": 26,
   "id": "805f86e7",
   "metadata": {
    "execution": {
     "iopub.execute_input": "2024-08-11T13:50:58.566851Z",
     "iopub.status.busy": "2024-08-11T13:50:58.566455Z",
     "iopub.status.idle": "2024-08-11T13:51:03.495195Z",
     "shell.execute_reply": "2024-08-11T13:51:03.493897Z"
    },
    "papermill": {
     "duration": 4.949228,
     "end_time": "2024-08-11T13:51:03.497698",
     "exception": false,
     "start_time": "2024-08-11T13:50:58.548470",
     "status": "completed"
    },
    "tags": []
   },
   "outputs": [],
   "source": [
    "X = tokenizer.texts_to_sequences(train_data['Text_cleaning'].values)\n",
    "X = pad_sequences(X, maxlen = max_len)\n",
    "y = pd.get_dummies(train_data['Genre']).values\n",
    "\n",
    "X_test = tokenizer.texts_to_sequences(test_data['Text_cleaning'].values)\n",
    "X_test = pad_sequences(X, maxlen = max_len)\n",
    "y_test = pd.get_dummies(test_data_sol['Genre']).values"
   ]
  },
  {
   "cell_type": "code",
   "execution_count": 27,
   "id": "e43467c1",
   "metadata": {
    "execution": {
     "iopub.execute_input": "2024-08-11T13:51:03.533759Z",
     "iopub.status.busy": "2024-08-11T13:51:03.532985Z",
     "iopub.status.idle": "2024-08-11T13:51:10.477693Z",
     "shell.execute_reply": "2024-08-11T13:51:10.476866Z"
    },
    "papermill": {
     "duration": 6.965069,
     "end_time": "2024-08-11T13:51:10.479982",
     "exception": false,
     "start_time": "2024-08-11T13:51:03.514913",
     "status": "completed"
    },
    "tags": []
   },
   "outputs": [],
   "source": [
    "tfidf_vectorizer = TfidfVectorizer()\n",
    "X_train = tfidf_vectorizer.fit_transform(train_data['Text_cleaning'])\n",
    "X_test = tfidf_vectorizer.transform(test_data['Text_cleaning'])"
   ]
  },
  {
   "cell_type": "markdown",
   "id": "0c354b14",
   "metadata": {
    "papermill": {
     "duration": 0.016668,
     "end_time": "2024-08-11T13:51:10.514114",
     "exception": false,
     "start_time": "2024-08-11T13:51:10.497446",
     "status": "completed"
    },
    "tags": []
   },
   "source": [
    "### Build LSTM model"
   ]
  },
  {
   "cell_type": "code",
   "execution_count": 28,
   "id": "f7cb5bd0",
   "metadata": {
    "execution": {
     "iopub.execute_input": "2024-08-11T13:51:10.550382Z",
     "iopub.status.busy": "2024-08-11T13:51:10.550039Z",
     "iopub.status.idle": "2024-08-11T13:51:11.215623Z",
     "shell.execute_reply": "2024-08-11T13:51:11.214574Z"
    },
    "papermill": {
     "duration": 0.687113,
     "end_time": "2024-08-11T13:51:11.218023",
     "exception": false,
     "start_time": "2024-08-11T13:51:10.530910",
     "status": "completed"
    },
    "tags": []
   },
   "outputs": [
    {
     "name": "stderr",
     "output_type": "stream",
     "text": [
      "/opt/conda/lib/python3.10/site-packages/keras/src/layers/core/embedding.py:90: UserWarning: Argument `input_length` is deprecated. Just remove it.\n",
      "  warnings.warn(\n"
     ]
    }
   ],
   "source": [
    "EMBEDDING_DIM = 100\n",
    "model = Sequential()\n",
    "model.add(Embedding(num_words, EMBEDDING_DIM, input_length = X.shape[1]))\n",
    "model.add(SpatialDropout1D(0.2))\n",
    "model.add(LSTM(100, dropout = 0.1, recurrent_dropout = 0.2))\n",
    "model.add(Dense(27, activation = 'softmax'))\n",
    "model.compile(loss = 'categorical_crossentropy', optimizer = 'adam', metrics = ['accuracy'])  "
   ]
  },
  {
   "cell_type": "markdown",
   "id": "ace34a94",
   "metadata": {
    "papermill": {
     "duration": 0.018211,
     "end_time": "2024-08-11T13:51:11.253798",
     "exception": false,
     "start_time": "2024-08-11T13:51:11.235587",
     "status": "completed"
    },
    "tags": []
   },
   "source": [
    "### Split Data and Train a Model (Naive Bayes)"
   ]
  },
  {
   "cell_type": "code",
   "execution_count": 29,
   "id": "1e4a3f1e",
   "metadata": {
    "execution": {
     "iopub.execute_input": "2024-08-11T13:51:11.289452Z",
     "iopub.status.busy": "2024-08-11T13:51:11.289093Z",
     "iopub.status.idle": "2024-08-11T13:51:11.312268Z",
     "shell.execute_reply": "2024-08-11T13:51:11.311504Z"
    },
    "papermill": {
     "duration": 0.043884,
     "end_time": "2024-08-11T13:51:11.314426",
     "exception": false,
     "start_time": "2024-08-11T13:51:11.270542",
     "status": "completed"
    },
    "tags": []
   },
   "outputs": [],
   "source": [
    "X = X_train\n",
    "y = train_data['Genre']\n",
    "X_train, X_val, y_train, y_val = train_test_split(X, y, test_size=0.2, random_state=42)"
   ]
  },
  {
   "cell_type": "code",
   "execution_count": 30,
   "id": "f7423815",
   "metadata": {
    "execution": {
     "iopub.execute_input": "2024-08-11T13:51:11.350737Z",
     "iopub.status.busy": "2024-08-11T13:51:11.350384Z",
     "iopub.status.idle": "2024-08-11T13:51:11.777732Z",
     "shell.execute_reply": "2024-08-11T13:51:11.776778Z"
    },
    "papermill": {
     "duration": 0.447413,
     "end_time": "2024-08-11T13:51:11.779819",
     "exception": false,
     "start_time": "2024-08-11T13:51:11.332406",
     "status": "completed"
    },
    "tags": []
   },
   "outputs": [
    {
     "data": {
      "text/html": [
       "<style>#sk-container-id-1 {color: black;background-color: white;}#sk-container-id-1 pre{padding: 0;}#sk-container-id-1 div.sk-toggleable {background-color: white;}#sk-container-id-1 label.sk-toggleable__label {cursor: pointer;display: block;width: 100%;margin-bottom: 0;padding: 0.3em;box-sizing: border-box;text-align: center;}#sk-container-id-1 label.sk-toggleable__label-arrow:before {content: \"▸\";float: left;margin-right: 0.25em;color: #696969;}#sk-container-id-1 label.sk-toggleable__label-arrow:hover:before {color: black;}#sk-container-id-1 div.sk-estimator:hover label.sk-toggleable__label-arrow:before {color: black;}#sk-container-id-1 div.sk-toggleable__content {max-height: 0;max-width: 0;overflow: hidden;text-align: left;background-color: #f0f8ff;}#sk-container-id-1 div.sk-toggleable__content pre {margin: 0.2em;color: black;border-radius: 0.25em;background-color: #f0f8ff;}#sk-container-id-1 input.sk-toggleable__control:checked~div.sk-toggleable__content {max-height: 200px;max-width: 100%;overflow: auto;}#sk-container-id-1 input.sk-toggleable__control:checked~label.sk-toggleable__label-arrow:before {content: \"▾\";}#sk-container-id-1 div.sk-estimator input.sk-toggleable__control:checked~label.sk-toggleable__label {background-color: #d4ebff;}#sk-container-id-1 div.sk-label input.sk-toggleable__control:checked~label.sk-toggleable__label {background-color: #d4ebff;}#sk-container-id-1 input.sk-hidden--visually {border: 0;clip: rect(1px 1px 1px 1px);clip: rect(1px, 1px, 1px, 1px);height: 1px;margin: -1px;overflow: hidden;padding: 0;position: absolute;width: 1px;}#sk-container-id-1 div.sk-estimator {font-family: monospace;background-color: #f0f8ff;border: 1px dotted black;border-radius: 0.25em;box-sizing: border-box;margin-bottom: 0.5em;}#sk-container-id-1 div.sk-estimator:hover {background-color: #d4ebff;}#sk-container-id-1 div.sk-parallel-item::after {content: \"\";width: 100%;border-bottom: 1px solid gray;flex-grow: 1;}#sk-container-id-1 div.sk-label:hover label.sk-toggleable__label {background-color: #d4ebff;}#sk-container-id-1 div.sk-serial::before {content: \"\";position: absolute;border-left: 1px solid gray;box-sizing: border-box;top: 0;bottom: 0;left: 50%;z-index: 0;}#sk-container-id-1 div.sk-serial {display: flex;flex-direction: column;align-items: center;background-color: white;padding-right: 0.2em;padding-left: 0.2em;position: relative;}#sk-container-id-1 div.sk-item {position: relative;z-index: 1;}#sk-container-id-1 div.sk-parallel {display: flex;align-items: stretch;justify-content: center;background-color: white;position: relative;}#sk-container-id-1 div.sk-item::before, #sk-container-id-1 div.sk-parallel-item::before {content: \"\";position: absolute;border-left: 1px solid gray;box-sizing: border-box;top: 0;bottom: 0;left: 50%;z-index: -1;}#sk-container-id-1 div.sk-parallel-item {display: flex;flex-direction: column;z-index: 1;position: relative;background-color: white;}#sk-container-id-1 div.sk-parallel-item:first-child::after {align-self: flex-end;width: 50%;}#sk-container-id-1 div.sk-parallel-item:last-child::after {align-self: flex-start;width: 50%;}#sk-container-id-1 div.sk-parallel-item:only-child::after {width: 0;}#sk-container-id-1 div.sk-dashed-wrapped {border: 1px dashed gray;margin: 0 0.4em 0.5em 0.4em;box-sizing: border-box;padding-bottom: 0.4em;background-color: white;}#sk-container-id-1 div.sk-label label {font-family: monospace;font-weight: bold;display: inline-block;line-height: 1.2em;}#sk-container-id-1 div.sk-label-container {text-align: center;}#sk-container-id-1 div.sk-container {/* jupyter's `normalize.less` sets `[hidden] { display: none; }` but bootstrap.min.css set `[hidden] { display: none !important; }` so we also need the `!important` here to be able to override the default hidden behavior on the sphinx rendered scikit-learn.org. See: https://github.com/scikit-learn/scikit-learn/issues/21755 */display: inline-block !important;position: relative;}#sk-container-id-1 div.sk-text-repr-fallback {display: none;}</style><div id=\"sk-container-id-1\" class=\"sk-top-container\"><div class=\"sk-text-repr-fallback\"><pre>MultinomialNB()</pre><b>In a Jupyter environment, please rerun this cell to show the HTML representation or trust the notebook. <br />On GitHub, the HTML representation is unable to render, please try loading this page with nbviewer.org.</b></div><div class=\"sk-container\" hidden><div class=\"sk-item\"><div class=\"sk-estimator sk-toggleable\"><input class=\"sk-toggleable__control sk-hidden--visually\" id=\"sk-estimator-id-1\" type=\"checkbox\" checked><label for=\"sk-estimator-id-1\" class=\"sk-toggleable__label sk-toggleable__label-arrow\">MultinomialNB</label><div class=\"sk-toggleable__content\"><pre>MultinomialNB()</pre></div></div></div></div></div>"
      ],
      "text/plain": [
       "MultinomialNB()"
      ]
     },
     "execution_count": 30,
     "metadata": {},
     "output_type": "execute_result"
    }
   ],
   "source": [
    "classifier = MultinomialNB()\n",
    "classifier.fit(X_train, y_train)"
   ]
  },
  {
   "cell_type": "code",
   "execution_count": 31,
   "id": "37ecda47",
   "metadata": {
    "execution": {
     "iopub.execute_input": "2024-08-11T13:51:11.815962Z",
     "iopub.status.busy": "2024-08-11T13:51:11.815655Z",
     "iopub.status.idle": "2024-08-11T13:51:11.840298Z",
     "shell.execute_reply": "2024-08-11T13:51:11.839375Z"
    },
    "papermill": {
     "duration": 0.044979,
     "end_time": "2024-08-11T13:51:11.842554",
     "exception": false,
     "start_time": "2024-08-11T13:51:11.797575",
     "status": "completed"
    },
    "tags": []
   },
   "outputs": [],
   "source": [
    "y_pred = classifier.predict(X_val)"
   ]
  },
  {
   "cell_type": "markdown",
   "id": "c50cd5f1",
   "metadata": {
    "papermill": {
     "duration": 0.017593,
     "end_time": "2024-08-11T13:51:11.878119",
     "exception": false,
     "start_time": "2024-08-11T13:51:11.860526",
     "status": "completed"
    },
    "tags": []
   },
   "source": [
    "### Accuracy "
   ]
  },
  {
   "cell_type": "code",
   "execution_count": 32,
   "id": "b9ef4530",
   "metadata": {
    "execution": {
     "iopub.execute_input": "2024-08-11T13:51:11.914628Z",
     "iopub.status.busy": "2024-08-11T13:51:11.914021Z",
     "iopub.status.idle": "2024-08-11T13:51:12.272980Z",
     "shell.execute_reply": "2024-08-11T13:51:12.271902Z"
    },
    "papermill": {
     "duration": 0.37952,
     "end_time": "2024-08-11T13:51:12.275217",
     "exception": false,
     "start_time": "2024-08-11T13:51:11.895697",
     "status": "completed"
    },
    "tags": []
   },
   "outputs": [
    {
     "name": "stdout",
     "output_type": "stream",
     "text": [
      "Validation Accuracy: 0.43585480742587973\n"
     ]
    },
    {
     "name": "stderr",
     "output_type": "stream",
     "text": [
      "/opt/conda/lib/python3.10/site-packages/sklearn/metrics/_classification.py:1344: UndefinedMetricWarning: Precision and F-score are ill-defined and being set to 0.0 in labels with no predicted samples. Use `zero_division` parameter to control this behavior.\n",
      "  _warn_prf(average, modifier, msg_start, len(result))\n",
      "/opt/conda/lib/python3.10/site-packages/sklearn/metrics/_classification.py:1344: UndefinedMetricWarning: Precision and F-score are ill-defined and being set to 0.0 in labels with no predicted samples. Use `zero_division` parameter to control this behavior.\n",
      "  _warn_prf(average, modifier, msg_start, len(result))\n"
     ]
    },
    {
     "name": "stdout",
     "output_type": "stream",
     "text": [
      "               precision    recall  f1-score   support\n",
      "\n",
      "      action        0.00      0.00      0.00       254\n",
      "       adult        0.00      0.00      0.00       105\n",
      "   adventure        0.00      0.00      0.00       134\n",
      "   animation        0.00      0.00      0.00       101\n",
      "   biography        0.00      0.00      0.00        45\n",
      "      comedy        0.72      0.02      0.04      1505\n",
      "       crime        0.00      0.00      0.00       116\n",
      " documentary        0.51      0.89      0.65      2605\n",
      "       drama        0.38      0.86      0.53      2732\n",
      "      family        0.00      0.00      0.00       158\n",
      "     fantasy        0.00      0.00      0.00        65\n",
      "   game-show        0.00      0.00      0.00        48\n",
      "     history        0.00      0.00      0.00        47\n",
      "      horror        0.00      0.00      0.00       434\n",
      "       music        0.00      0.00      0.00       145\n",
      "     musical        0.00      0.00      0.00        57\n",
      "     mystery        0.00      0.00      0.00        72\n",
      "        news        0.00      0.00      0.00        35\n",
      "  reality-tv        0.00      0.00      0.00       168\n",
      "     romance        0.00      0.00      0.00       146\n",
      "      sci-fi        0.00      0.00      0.00       125\n",
      "       short        1.00      0.00      0.00      1047\n",
      "       sport        0.00      0.00      0.00        94\n",
      "   talk-show        0.00      0.00      0.00        78\n",
      "    thriller        0.00      0.00      0.00       294\n",
      "         war        0.00      0.00      0.00        23\n",
      "     western        0.00      0.00      0.00       194\n",
      "\n",
      "     accuracy                           0.44     10827\n",
      "    macro avg       0.10      0.07      0.05     10827\n",
      " weighted avg       0.42      0.44      0.30     10827\n",
      "\n"
     ]
    },
    {
     "name": "stderr",
     "output_type": "stream",
     "text": [
      "/opt/conda/lib/python3.10/site-packages/sklearn/metrics/_classification.py:1344: UndefinedMetricWarning: Precision and F-score are ill-defined and being set to 0.0 in labels with no predicted samples. Use `zero_division` parameter to control this behavior.\n",
      "  _warn_prf(average, modifier, msg_start, len(result))\n"
     ]
    }
   ],
   "source": [
    "accuracy = accuracy_score(y_val, y_pred)\n",
    "print(\"Validation Accuracy:\", accuracy)\n",
    "print(classification_report(y_val, y_pred))"
   ]
  },
  {
   "cell_type": "code",
   "execution_count": null,
   "id": "4fc9c45c",
   "metadata": {
    "papermill": {
     "duration": 0.017143,
     "end_time": "2024-08-11T13:51:12.310154",
     "exception": false,
     "start_time": "2024-08-11T13:51:12.293011",
     "status": "completed"
    },
    "tags": []
   },
   "outputs": [],
   "source": []
  }
 ],
 "metadata": {
  "kaggle": {
   "accelerator": "gpu",
   "dataSources": [
    {
     "datasetId": 1417162,
     "sourceId": 2347441,
     "sourceType": "datasetVersion"
    }
   ],
   "dockerImageVersionId": 30747,
   "isGpuEnabled": true,
   "isInternetEnabled": true,
   "language": "python",
   "sourceType": "notebook"
  },
  "kernelspec": {
   "display_name": "Python 3 (ipykernel)",
   "language": "python",
   "name": "python3"
  },
  "language_info": {
   "codemirror_mode": {
    "name": "ipython",
    "version": 3
   },
   "file_extension": ".py",
   "mimetype": "text/x-python",
   "name": "python",
   "nbconvert_exporter": "python",
   "pygments_lexer": "ipython3",
   "version": "3.11.4"
  },
  "papermill": {
   "default_parameters": {},
   "duration": 293.342729,
   "end_time": "2024-08-11T13:51:14.755148",
   "environment_variables": {},
   "exception": null,
   "input_path": "__notebook__.ipynb",
   "output_path": "__notebook__.ipynb",
   "parameters": {},
   "start_time": "2024-08-11T13:46:21.412419",
   "version": "2.5.0"
  }
 },
 "nbformat": 4,
 "nbformat_minor": 5
}
